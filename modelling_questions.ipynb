{
 "cells": [
  {
   "cell_type": "markdown",
   "metadata": {
    "colab_type": "text",
    "id": "view-in-github"
   },
   "source": [
    "<a href=\"https://colab.research.google.com/github/Titashmkhrj/Quora-question-pair-similarity-detection/blob/master/modelling_questions.ipynb\" target=\"_parent\"><img src=\"https://colab.research.google.com/assets/colab-badge.svg\" alt=\"Open In Colab\"/></a>"
   ]
  },
  {
   "cell_type": "markdown",
   "metadata": {
    "colab_type": "text",
    "id": "odk7vCgyyU15"
   },
   "source": [
    "# Project Description  \n",
    "This is a problem from one of the competitions held on Kaggle.  \n",
    "Competition name > <u>Quora Question Pairs</u>.  \n",
    "\n",
    "What is Quora?  \n",
    "Quora is a place to gain and share knowledge—about anything. It’s a platform to ask questions and connect with people who contribute unique insights and quality answers. This empowers people to learn from each other and to better understand the world.  \n",
    "\n",
    "# Problem Description  \n",
    "<i>(a/c the data source)</i>  \n",
    "Over 100 million people visit Quora every month, so it's no surprise that many people ask similarly worded questions. Multiple questions with the same intent can cause seekers to spend more time finding the best answer to their question, and make writers feel they need to answer multiple versions of the same question. Quora values canonical questions because they provide a better experience to active seekers and writers, and offer more value to both of these groups in the long term.  \n",
    "\n",
    "# Objective  \n",
    "<i>(a/c the data source)</i>   \n",
    "The goal of this competition is to predict which of the provided pairs of questions contain two questions with the same meaning.  \n",
    "\n",
    "# Data source  \n",
    "* From **KAGGLE** - https://www.kaggle.com/c/quora-question-pairs"
   ]
  },
  {
   "cell_type": "markdown",
   "metadata": {
    "colab_type": "text",
    "id": "_1SiuTcGDCWC"
   },
   "source": [
    "Okay so prime-facie let's import some of the libraries,  \n",
    "we will import other libraries as we go on a need basis."
   ]
  },
  {
   "cell_type": "code",
   "execution_count": 22,
   "metadata": {
    "colab": {
     "base_uri": "https://localhost:8080/",
     "height": 71
    },
    "colab_type": "code",
    "id": "BnIhyJaGHRuH",
    "outputId": "e3897ee2-929c-422f-8650-92760360b81a"
   },
   "outputs": [],
   "source": [
    "import sys\n",
    "\n",
    "# library to handle vectorized data \n",
    "import numpy as np \n",
    "# library for data analsysis and man\n",
    "import pandas as pd \n",
    "# so that the output is not trunacated by pandas when we actually want to see it \n",
    "pd.set_option('display.max_columns', 1000)\n",
    "pd.set_option('display.max_rows', 100000)\n",
    "\n",
    "# for visualisations\n",
    "import seaborn as sns\n",
    "%matplotlib inline \n",
    "import matplotlib.pyplot as plt\n"
   ]
  },
  {
   "cell_type": "markdown",
   "metadata": {
    "colab_type": "text",
    "id": "MoTzJVLaI5fi"
   },
   "source": [
    "Loading the data."
   ]
  },
  {
   "cell_type": "code",
   "execution_count": 2,
   "metadata": {
    "colab": {},
    "colab_type": "code",
    "id": "ENGDV_HTJmau"
   },
   "outputs": [],
   "source": [
    "# training data\n",
    "train_data = pd.read_csv(r'data/train.csv')\n",
    "# testing data\n",
    "test_data = pd.read_csv(r'data/test.csv')"
   ]
  },
  {
   "cell_type": "code",
   "execution_count": 3,
   "metadata": {
    "colab": {
     "base_uri": "https://localhost:8080/",
     "height": 34
    },
    "colab_type": "code",
    "id": "_f_MS_n9Kka8",
    "outputId": "68bdd1d9-0606-45de-b03e-b144f2aa0212"
   },
   "outputs": [
    {
     "name": "stdout",
     "output_type": "stream",
     "text": [
      "The dimensions of the training data are 404290 rows and 6 columns\n",
      "\n",
      "The dimensions of the testing data are 2345796 rows and 3 columns\n"
     ]
    }
   ],
   "source": [
    "print('''The dimensions of the training data are {} rows and {} columns\n",
    "\\nThe dimensions of the testing data are {} rows and {} columns'''.format(train_data.shape[0], train_data.shape[1],\n",
    "                                                                         test_data.shape[0], test_data.shape[1]))"
   ]
  },
  {
   "cell_type": "code",
   "execution_count": 4,
   "metadata": {
    "colab": {
     "base_uri": "https://localhost:8080/",
     "height": 204
    },
    "colab_type": "code",
    "id": "EfCBNUzBOEAd",
    "outputId": "4437632c-f390-4305-bed7-191b19e2eb64"
   },
   "outputs": [
    {
     "data": {
      "text/html": [
       "<div>\n",
       "<style scoped>\n",
       "    .dataframe tbody tr th:only-of-type {\n",
       "        vertical-align: middle;\n",
       "    }\n",
       "\n",
       "    .dataframe tbody tr th {\n",
       "        vertical-align: top;\n",
       "    }\n",
       "\n",
       "    .dataframe thead th {\n",
       "        text-align: right;\n",
       "    }\n",
       "</style>\n",
       "<table border=\"1\" class=\"dataframe\">\n",
       "  <thead>\n",
       "    <tr style=\"text-align: right;\">\n",
       "      <th></th>\n",
       "      <th>id</th>\n",
       "      <th>qid1</th>\n",
       "      <th>qid2</th>\n",
       "      <th>question1</th>\n",
       "      <th>question2</th>\n",
       "      <th>is_duplicate</th>\n",
       "    </tr>\n",
       "  </thead>\n",
       "  <tbody>\n",
       "    <tr>\n",
       "      <th>0</th>\n",
       "      <td>0</td>\n",
       "      <td>1</td>\n",
       "      <td>2</td>\n",
       "      <td>What is the step by step guide to invest in sh...</td>\n",
       "      <td>What is the step by step guide to invest in sh...</td>\n",
       "      <td>0</td>\n",
       "    </tr>\n",
       "    <tr>\n",
       "      <th>1</th>\n",
       "      <td>1</td>\n",
       "      <td>3</td>\n",
       "      <td>4</td>\n",
       "      <td>What is the story of Kohinoor (Koh-i-Noor) Dia...</td>\n",
       "      <td>What would happen if the Indian government sto...</td>\n",
       "      <td>0</td>\n",
       "    </tr>\n",
       "    <tr>\n",
       "      <th>2</th>\n",
       "      <td>2</td>\n",
       "      <td>5</td>\n",
       "      <td>6</td>\n",
       "      <td>How can I increase the speed of my internet co...</td>\n",
       "      <td>How can Internet speed be increased by hacking...</td>\n",
       "      <td>0</td>\n",
       "    </tr>\n",
       "    <tr>\n",
       "      <th>3</th>\n",
       "      <td>3</td>\n",
       "      <td>7</td>\n",
       "      <td>8</td>\n",
       "      <td>Why am I mentally very lonely? How can I solve...</td>\n",
       "      <td>Find the remainder when [math]23^{24}[/math] i...</td>\n",
       "      <td>0</td>\n",
       "    </tr>\n",
       "    <tr>\n",
       "      <th>4</th>\n",
       "      <td>4</td>\n",
       "      <td>9</td>\n",
       "      <td>10</td>\n",
       "      <td>Which one dissolve in water quikly sugar, salt...</td>\n",
       "      <td>Which fish would survive in salt water?</td>\n",
       "      <td>0</td>\n",
       "    </tr>\n",
       "  </tbody>\n",
       "</table>\n",
       "</div>"
      ],
      "text/plain": [
       "   id  qid1  qid2                                          question1  \\\n",
       "0   0     1     2  What is the step by step guide to invest in sh...   \n",
       "1   1     3     4  What is the story of Kohinoor (Koh-i-Noor) Dia...   \n",
       "2   2     5     6  How can I increase the speed of my internet co...   \n",
       "3   3     7     8  Why am I mentally very lonely? How can I solve...   \n",
       "4   4     9    10  Which one dissolve in water quikly sugar, salt...   \n",
       "\n",
       "                                           question2  is_duplicate  \n",
       "0  What is the step by step guide to invest in sh...             0  \n",
       "1  What would happen if the Indian government sto...             0  \n",
       "2  How can Internet speed be increased by hacking...             0  \n",
       "3  Find the remainder when [math]23^{24}[/math] i...             0  \n",
       "4            Which fish would survive in salt water?             0  "
      ]
     },
     "execution_count": 4,
     "metadata": {},
     "output_type": "execute_result"
    }
   ],
   "source": [
    "# let's take a look at the data\n",
    "train_data.head()"
   ]
  },
  {
   "cell_type": "code",
   "execution_count": 5,
   "metadata": {},
   "outputs": [
    {
     "data": {
      "text/html": [
       "<div>\n",
       "<style scoped>\n",
       "    .dataframe tbody tr th:only-of-type {\n",
       "        vertical-align: middle;\n",
       "    }\n",
       "\n",
       "    .dataframe tbody tr th {\n",
       "        vertical-align: top;\n",
       "    }\n",
       "\n",
       "    .dataframe thead th {\n",
       "        text-align: right;\n",
       "    }\n",
       "</style>\n",
       "<table border=\"1\" class=\"dataframe\">\n",
       "  <thead>\n",
       "    <tr style=\"text-align: right;\">\n",
       "      <th></th>\n",
       "      <th>test_id</th>\n",
       "      <th>question1</th>\n",
       "      <th>question2</th>\n",
       "    </tr>\n",
       "  </thead>\n",
       "  <tbody>\n",
       "    <tr>\n",
       "      <th>0</th>\n",
       "      <td>0</td>\n",
       "      <td>How does the Surface Pro himself 4 compare wit...</td>\n",
       "      <td>Why did Microsoft choose core m3 and not core ...</td>\n",
       "    </tr>\n",
       "    <tr>\n",
       "      <th>1</th>\n",
       "      <td>1</td>\n",
       "      <td>Should I have a hair transplant at age 24? How...</td>\n",
       "      <td>How much cost does hair transplant require?</td>\n",
       "    </tr>\n",
       "    <tr>\n",
       "      <th>2</th>\n",
       "      <td>2</td>\n",
       "      <td>What but is the best way to send money from Ch...</td>\n",
       "      <td>What you send money to China?</td>\n",
       "    </tr>\n",
       "    <tr>\n",
       "      <th>3</th>\n",
       "      <td>3</td>\n",
       "      <td>Which food not emulsifiers?</td>\n",
       "      <td>What foods fibre?</td>\n",
       "    </tr>\n",
       "    <tr>\n",
       "      <th>4</th>\n",
       "      <td>4</td>\n",
       "      <td>How \"aberystwyth\" start reading?</td>\n",
       "      <td>How their can I start reading?</td>\n",
       "    </tr>\n",
       "  </tbody>\n",
       "</table>\n",
       "</div>"
      ],
      "text/plain": [
       "   test_id                                          question1  \\\n",
       "0        0  How does the Surface Pro himself 4 compare wit...   \n",
       "1        1  Should I have a hair transplant at age 24? How...   \n",
       "2        2  What but is the best way to send money from Ch...   \n",
       "3        3                        Which food not emulsifiers?   \n",
       "4        4                   How \"aberystwyth\" start reading?   \n",
       "\n",
       "                                           question2  \n",
       "0  Why did Microsoft choose core m3 and not core ...  \n",
       "1        How much cost does hair transplant require?  \n",
       "2                      What you send money to China?  \n",
       "3                                  What foods fibre?  \n",
       "4                     How their can I start reading?  "
      ]
     },
     "execution_count": 5,
     "metadata": {},
     "output_type": "execute_result"
    }
   ],
   "source": [
    "test_data.head()"
   ]
  },
  {
   "cell_type": "code",
   "execution_count": 6,
   "metadata": {
    "colab": {
     "base_uri": "https://localhost:8080/",
     "height": 34
    },
    "colab_type": "code",
    "id": "ZrrTwfN9OHHn",
    "outputId": "0159d459-411c-4929-90ee-1d8143e42a03"
   },
   "outputs": [
    {
     "data": {
      "text/plain": [
       "Index(['id', 'qid1', 'qid2', 'question1', 'question2', 'is_duplicate'], dtype='object')"
      ]
     },
     "execution_count": 6,
     "metadata": {},
     "output_type": "execute_result"
    }
   ],
   "source": [
    "# let's check the features in our data\n",
    "train_data.columns"
   ]
  },
  {
   "cell_type": "markdown",
   "metadata": {
    "colab_type": "text",
    "id": "0LpysGvmRBKl"
   },
   "source": [
    "Feature explanation according to the data source :  \n",
    "* **id** - the id of a training set question pair\n",
    "* **qid1**, **qid2** - unique ids of each question (only available in train.csv)\n",
    "* **question1**, **question2** - the full text of each question\n",
    "* **is_duplicate** - the target variable, set to 1 if question1 and question2 have essentially the same meaning, and 0 otherwise."
   ]
  },
  {
   "cell_type": "code",
   "execution_count": 7,
   "metadata": {
    "colab": {
     "base_uri": "https://localhost:8080/",
     "height": 136
    },
    "colab_type": "code",
    "id": "j34_gwNTRc6G",
    "outputId": "7df2436d-707e-4216-987a-c49d7b34b321"
   },
   "outputs": [
    {
     "data": {
      "text/plain": [
       "id               int64\n",
       "qid1             int64\n",
       "qid2             int64\n",
       "question1       object\n",
       "question2       object\n",
       "is_duplicate     int64\n",
       "dtype: object"
      ]
     },
     "execution_count": 7,
     "metadata": {},
     "output_type": "execute_result"
    }
   ],
   "source": [
    "# let's also ckeck the data types of our features\n",
    "train_data.dtypes"
   ]
  },
  {
   "cell_type": "markdown",
   "metadata": {
    "colab_type": "text",
    "id": "osp1hd1JRqPf"
   },
   "source": [
    "\n",
    "# Handling missing values."
   ]
  },
  {
   "cell_type": "code",
   "execution_count": 8,
   "metadata": {},
   "outputs": [
    {
     "data": {
      "text/plain": [
       "id              0\n",
       "qid1            0\n",
       "qid2            0\n",
       "question1       1\n",
       "question2       2\n",
       "is_duplicate    0\n",
       "dtype: int64"
      ]
     },
     "execution_count": 8,
     "metadata": {},
     "output_type": "execute_result"
    }
   ],
   "source": [
    "train_data.isnull().sum()"
   ]
  },
  {
   "cell_type": "markdown",
   "metadata": {},
   "source": [
    "As we can see from above, there are a couple of missing values in this dataset. There is no possibility for impuation of the missing values in our dataset. Hence we are going to drop them."
   ]
  },
  {
   "cell_type": "code",
   "execution_count": 9,
   "metadata": {},
   "outputs": [
    {
     "data": {
      "text/plain": [
       "(404287, 6)"
      ]
     },
     "execution_count": 9,
     "metadata": {},
     "output_type": "execute_result"
    }
   ],
   "source": [
    "train_data.dropna(inplace = True)\n",
    "train_data.shape"
   ]
  },
  {
   "cell_type": "markdown",
   "metadata": {},
   "source": [
    "# Exploratory Data Aanalysis"
   ]
  },
  {
   "cell_type": "markdown",
   "metadata": {},
   "source": [
    "Let's check some descriptive stats about our data."
   ]
  },
  {
   "cell_type": "code",
   "execution_count": 10,
   "metadata": {},
   "outputs": [],
   "source": [
    "'''\n",
    "Function to print out the descriptive stats\n",
    "of a feature containing text data.\n",
    "In this particular case we have sentences that are questions \n",
    "as the text feature.\n",
    "'''\n",
    "def desc_stat_sent (data, feature) :\n",
    "    tot_words = data[feature].map(lambda x: len(x.split()))\n",
    "    avg_words = round(tot_words.mean())\n",
    "    min_words = round((data[feature].map(lambda x: len(x.split()))).min())\n",
    "    max_words = round((data[feature].map(lambda x: len(x.split()))).max())\n",
    "    std_words = round((data[feature].map(lambda x: len(x.split()))).std())\n",
    "    \n",
    "    #printing the results\n",
    "    print('''Descritive statistics for the feature \"{}\"\n",
    "    \\nAverage number of words in each sentence : {}\n",
    "    \\nStandard deviation in number of words in each sentence : {}\n",
    "    \\nMaximum number of words in a sentence : {}\n",
    "    \\nMinimum number of words in a sentence : {}'''.format(feature,\n",
    "                                                           avg_words,\n",
    "                                                           std_words,\n",
    "                                                           max_words,\n",
    "                                                           min_words))"
   ]
  },
  {
   "cell_type": "code",
   "execution_count": 11,
   "metadata": {},
   "outputs": [
    {
     "name": "stdout",
     "output_type": "stream",
     "text": [
      "Descritive statistics for the feature \"question1\"\n",
      "    \n",
      "Average number of words in each sentence : 11\n",
      "    \n",
      "Standard deviation in number of words in each sentence : 5\n",
      "    \n",
      "Maximum number of words in a sentence : 125\n",
      "    \n",
      "Minimum number of words in a sentence : 1\n"
     ]
    }
   ],
   "source": [
    "desc_stat_sent(train_data, 'question1')"
   ]
  },
  {
   "cell_type": "code",
   "execution_count": 12,
   "metadata": {},
   "outputs": [
    {
     "name": "stdout",
     "output_type": "stream",
     "text": [
      "Descritive statistics for the feature \"question2\"\n",
      "    \n",
      "Average number of words in each sentence : 11\n",
      "    \n",
      "Standard deviation in number of words in each sentence : 6\n",
      "    \n",
      "Maximum number of words in a sentence : 237\n",
      "    \n",
      "Minimum number of words in a sentence : 1\n"
     ]
    }
   ],
   "source": [
    "desc_stat_sent(train_data, 'question2')"
   ]
  },
  {
   "cell_type": "markdown",
   "metadata": {
    "colab_type": "text",
    "id": "YNN6HvmJSLYZ"
   },
   "source": [
    "### Frequency distribution of the labels in the target feature :   \n",
    "**is_duplicate** is the target variable,  \n",
    "set to **1** if <i>question1</i> and <i>question2</i> have essentially the same meaning,  \n",
    "and set to **0** if <i>question1</i> and <i>question2</i> have otherwise different meaning.  \n",
    "\n",
    "Okay so we can understand that it is  binary target feature;  \n",
    "so let's check the frequency distribution of the labels."
   ]
  },
  {
   "cell_type": "code",
   "execution_count": 13,
   "metadata": {
    "colab": {
     "base_uri": "https://localhost:8080/",
     "height": 299
    },
    "colab_type": "code",
    "id": "3oe-US9AWDov",
    "outputId": "b6a04509-8a3f-4db5-c2b9-8ce98f81d766"
   },
   "outputs": [
    {
     "name": "stdout",
     "output_type": "stream",
     "text": [
      ">> Percentage of question pairs that are not similar = 63.08 %\n",
      "\n",
      ">> Percentage of question pairs that are similar = 36.92 %\n"
     ]
    },
    {
     "data": {
      "image/png": "[encoded data removed]",
      "text/plain": [
       "<Figure size 432x288 with 1 Axes>"
      ]
     },
     "metadata": {},
     "output_type": "display_data"
    }
   ],
   "source": [
    "# plotting the frequency distribution\n",
    "target_freq_dist = train_data['is_duplicate'].value_counts() \n",
    "target_freq_dist.plot.pie()\n",
    "# printing the data related to it\n",
    "print('''>> Percentage of question pairs that are not similar = {} %\n",
    "\\n>> Percentage of question pairs that are similar = {} %'''.format(round((target_freq_dist[0]/len(train_data))*100,2),\n",
    "                                                               round((target_freq_dist[1]/len(train_data))*100, 2)))"
   ]
  },
  {
   "cell_type": "markdown",
   "metadata": {
    "colab_type": "text",
    "id": "umPvRNL7Wzbv"
   },
   "source": [
    "okay so as we can from above that the frequency distribution of the labels in our targe feature is imbalanced."
   ]
  },
  {
   "cell_type": "markdown",
   "metadata": {
    "colab_type": "text",
    "id": "wX2XDXWvGjne"
   },
   "source": [
    "### Unique questions :  \n",
    "okay so now let us check the number of unique questions in our data, and how they are distributed.  \n",
    "\n",
    "We have two features **qid1** and **qid2**, which contain the unique ids of the questons in our data. From observing the head of our dataset, prime - facie we can understand that the question pairs are made out of consecutive questions; i.e. questoin (1,2), (3,4), (5,6), and so on... From the above pattern we can infer that the pairs consist of consecutive odd and even numbered questions.  \n",
    "\n",
    "okay, so assuming that given a particular question id there is only one question, let us see how many unique questions we have in our dataset.  \n",
    "\n",
    "We will also be checking the frequency distribution of the unique questions in our dataset, i.e. assuming for a particular question id there is only one question, if that question is repeated in any other pair, and if so what is the frequency of such repetitions in our data."
   ]
  },
  {
   "cell_type": "code",
   "execution_count": 14,
   "metadata": {
    "colab": {
     "base_uri": "https://localhost:8080/",
     "height": 34
    },
    "colab_type": "code",
    "id": "L3E9qjitGj4W",
    "outputId": "1bcf68e1-ca5f-4750-9aa6-e70622fb1f10"
   },
   "outputs": [
    {
     "name": "stdout",
     "output_type": "stream",
     "text": [
      "The number of unique questions in our dataset are  537929  questions.\n"
     ]
    }
   ],
   "source": [
    "# checking the number of unique questions, assuing that gven a particular question id there is only one question\n",
    "question_ids = pd.Series(train_data['qid1'].tolist() + train_data['qid2'].tolist())\n",
    "print('The number of unique questions in our dataset are ', len(np.unique(question_ids)), ' questions.')"
   ]
  },
  {
   "cell_type": "code",
   "execution_count": 35,
   "metadata": {
    "colab": {
     "base_uri": "https://localhost:8080/",
     "height": 1000
    },
    "colab_type": "code",
    "id": "HvpvMbN3GkCE",
    "outputId": "5ef20b0a-1581-4a70-dc8e-50c627dff8bd"
   },
   "outputs": [],
   "source": [
    "# checking the frequency of repetition of each unique question\n",
    "freq_dict = {'no_of_questions' : ((question_ids.value_counts()).value_counts()).values,\n",
    "             'frequency_of_repitition' : ((question_ids.value_counts()).value_counts()).index\n",
    "                }\n",
    "\n",
    "freq_of_questions = pd.DataFrame(freq_dict)"
   ]
  },
  {
   "cell_type": "code",
   "execution_count": 44,
   "metadata": {},
   "outputs": [
    {
     "data": {
      "image/png": "[encoded data removed]",
      "text/plain": [
       "<Figure size 1440x720 with 1 Axes>"
      ]
     },
     "metadata": {
      "needs_background": "light"
     },
     "output_type": "display_data"
    }
   ],
   "source": [
    "# plotting the above finding\n",
    "plt.figure(figsize=(20, 10))\n",
    "# sns.set_theme(style=\"blackgrid\")\n",
    "sns.barplot(x = \"no_of_questions\",\n",
    "            y = \"frequency_of_repitition\",\n",
    "            data=freq_of_questions,\n",
    "            palette=\"Blues_d\")\n",
    "plt.show()"
   ]
  },
  {
   "cell_type": "markdown",
   "metadata": {
    "colab_type": "text",
    "id": "UMyMZNiBHFu9"
   },
   "source": [
    "Observations : \n",
    "* 426153 number of questions have no repetitions in our dataset, which means 111780 questions have repetitions in our dataset.\n",
    "* The frequncy distribution of repetitions of questions range from 1 to 157.\n",
    "* The frequency of repetition of questions is inversly proportionate to the number od questions repeated for that particular frequency.\n"
   ]
  },
  {
   "cell_type": "markdown",
   "metadata": {
    "colab": {},
    "colab_type": "code",
    "id": "ig-gUWrf2-dN"
   },
   "source": [
    "### Checking for duplicate rows in our data.\n",
    "\n",
    "Assuming all the questions in our feature **question1** and **question2** have unique IDs i.e. **qid1** and **qid2** -   \n",
    "We can define a duplicated instance in our data if the values of the fetures in **qid1 , qid2** and **is_duplicate** are same for any two instance.  "
   ]
  },
  {
   "cell_type": "code",
   "execution_count": 46,
   "metadata": {},
   "outputs": [
    {
     "name": "stdout",
     "output_type": "stream",
     "text": [
      "Number of duplicate questions 0\n"
     ]
    }
   ],
   "source": [
    "#checking whether there are any repeated pair of questions\n",
    "pair_duplicates = train_data[['qid1','qid2','is_duplicate']].groupby(['qid1','qid2']).count().reset_index()\n",
    "print (\"Number of duplicate questions\",(pair_duplicates).shape[0] - train_data.shape[0])"
   ]
  },
  {
   "cell_type": "markdown",
   "metadata": {},
   "source": [
    "**Basic feature engineering.**  \n",
    "Let us now construct a few features like:\n",
    " - ____freq_qid1____ = Frequency of qid1's\n",
    " - ____freq_qid2____ = Frequency of qid2's \n",
    " - ____q1len____ = Length of q1\n",
    " - ____q2len____ = Length of q2\n",
    " - ____q1_n_words____ = Number of words in Question 1\n",
    " - ____q2_n_words____ = Number of words in Question 2\n",
    " - ____word_Common____ = (Number of common unique words in Question 1 and Question 2)\n",
    " - ____word_Total____ =(Total num of words in Question 1 + Total num of words in Question 2)\n",
    " - ____word_share____ = (word_common)/(word_Total)\n",
    " - ____freq_q1+freq_q2____ = sum total of frequency of qid1 and qid2 \n",
    " - ____freq_q1-freq_q2____ = absolute difference of frequency of qid1 and qid2 "
   ]
  },
  {
   "cell_type": "markdown",
   "metadata": {},
   "source": [
    "**Text preprocessing**  \n",
    "- Preprocessing:\n",
    "    - Removing html tags \n",
    "    - Removing Punctuations\n",
    "    - Performing stemming\n",
    "    - Removing Stopwords\n",
    "    - Expanding contractions etc."
   ]
  },
  {
   "cell_type": "markdown",
   "metadata": {},
   "source": [
    "**Advanced Feature Extraction (NLP and Fuzzy Features)**  \n",
    "Definition:\n",
    "- __Token__: You get a token by splitting sentence a space\n",
    "- __Stop_Word__ : stop words as per NLTK.\n",
    "- __Word__ : A token that is not a stop_word\n",
    "\n",
    "\n",
    "Features:\n",
    "- __cwc_min__ :  Ratio of common_word_count to min lenghth of word count of Q1 and Q2 <br>cwc_min = common_word_count / (min(len(q1_words), len(q2_words))\n",
    "<br>\n",
    "<br>\n",
    "- __cwc_max__ :  Ratio of common_word_count to max lenghth of word count of Q1 and Q2 <br>cwc_max = common_word_count / (max(len(q1_words), len(q2_words))\n",
    "<br>\n",
    "<br>\n",
    "- __csc_min__ :  Ratio of common_stop_count to min lenghth of stop count of Q1 and Q2 <br> csc_min = common_stop_count / (min(len(q1_stops), len(q2_stops))\n",
    "<br>\n",
    "<br>\n",
    "- __csc_max__ :  Ratio of common_stop_count to max lenghth of stop count of Q1 and Q2<br>csc_max = common_stop_count / (max(len(q1_stops), len(q2_stops))\n",
    "<br>\n",
    "<br>\n",
    "- __ctc_min__ :  Ratio of common_token_count to min lenghth of token count of Q1 and Q2<br>ctc_min = common_token_count / (min(len(q1_tokens), len(q2_tokens))\n",
    "<br>\n",
    "<br>\n",
    "\n",
    "- __ctc_max__ :  Ratio of common_token_count to max lenghth of token count of Q1 and Q2<br>ctc_max = common_token_count / (max(len(q1_tokens), len(q2_tokens))\n",
    "<br>\n",
    "<br>\n",
    "        \n",
    "- __last_word_eq__ :  Check if Last word of both questions is equal or not<br>last_word_eq = int(q1_tokens[-1] == q2_tokens[-1])\n",
    "<br>\n",
    "<br>\n",
    "\n",
    "- __first_word_eq__ :  Check if First word of both questions is equal or not<br>first_word_eq = int(q1_tokens[0] == q2_tokens[0])\n",
    "<br>\n",
    "<br>\n",
    "        \n",
    "- __abs_len_diff__ :  Abs. length difference<br>abs_len_diff = abs(len(q1_tokens) - len(q2_tokens))\n",
    "<br>\n",
    "<br>\n",
    "\n",
    "- __mean_len__ :  Average Token Length of both Questions<br>mean_len = (len(q1_tokens) + len(q2_tokens))/2\n",
    "<br>\n",
    "<br>\n",
    "\n",
    "\n",
    "- __fuzz_ratio__ :  https://github.com/seatgeek/fuzzywuzzy#usage\n",
    "http://chairnerd.seatgeek.com/fuzzywuzzy-fuzzy-string-matching-in-python/\n",
    "<br>\n",
    "<br>\n",
    "\n",
    "- __fuzz_partial_ratio__ :  https://github.com/seatgeek/fuzzywuzzy#usage\n",
    "http://chairnerd.seatgeek.com/fuzzywuzzy-fuzzy-string-matching-in-python/\n",
    "<br>\n",
    "<br>\n",
    "\n",
    "\n",
    "- __token_sort_ratio__ : https://github.com/seatgeek/fuzzywuzzy#usage\n",
    "http://chairnerd.seatgeek.com/fuzzywuzzy-fuzzy-string-matching-in-python/\n",
    "<br>\n",
    "<br>\n",
    "\n",
    "\n",
    "- __token_set_ratio__ : https://github.com/seatgeek/fuzzywuzzy#usage\n",
    "http://chairnerd.seatgeek.com/fuzzywuzzy-fuzzy-string-matching-in-python/\n",
    "<br>\n",
    "<br>\n",
    "\n",
    "\n",
    "\n",
    "\n",
    "\n",
    "- __longest_substr_ratio__ :  Ratio of length longest common substring to min lenghth of token count of Q1 and Q2<br>longest_substr_ratio = len(longest common substring) / (min(len(q1_tokens), len(q2_tokens))\n"
   ]
  },
  {
   "cell_type": "markdown",
   "metadata": {},
   "source": [
    "**more features** :  \n",
    "* tf-idf vectorisation features of the questions\n",
    "* tf-idf weighted Word2Vector features of the questions\n"
   ]
  },
  {
   "cell_type": "markdown",
   "metadata": {},
   "source": []
  },
  {
   "cell_type": "markdown",
   "metadata": {},
   "source": []
  },
  {
   "cell_type": "markdown",
   "metadata": {},
   "source": []
  },
  {
   "cell_type": "markdown",
   "metadata": {},
   "source": []
  },
  {
   "cell_type": "markdown",
   "metadata": {},
   "source": []
  },
  {
   "cell_type": "markdown",
   "metadata": {},
   "source": []
  },
  {
   "cell_type": "markdown",
   "metadata": {},
   "source": []
  },
  {
   "cell_type": "markdown",
   "metadata": {},
   "source": []
  },
  {
   "cell_type": "markdown",
   "metadata": {},
   "source": [
    "# Feature extraction utilising feature engneering"
   ]
  },
  {
   "cell_type": "markdown",
   "metadata": {},
   "source": [
    "* Length of Q1\n",
    "* Length of Q2\n",
    "* Diff in the above two lengths\n",
    "* Character length of Q1 without space\n",
    "* Character length of Q2 without space\n",
    "* Number of words in Q1\n",
    "* Number of words in Q2\n",
    "* Number of common words in Q1 and Q2"
   ]
  },
  {
   "cell_type": "code",
   "execution_count": null,
   "metadata": {},
   "outputs": [],
   "source": []
  },
  {
   "cell_type": "code",
   "execution_count": null,
   "metadata": {},
   "outputs": [],
   "source": []
  },
  {
   "cell_type": "code",
   "execution_count": null,
   "metadata": {},
   "outputs": [],
   "source": []
  },
  {
   "cell_type": "code",
   "execution_count": null,
   "metadata": {},
   "outputs": [],
   "source": []
  },
  {
   "cell_type": "code",
   "execution_count": null,
   "metadata": {},
   "outputs": [],
   "source": []
  },
  {
   "cell_type": "code",
   "execution_count": null,
   "metadata": {},
   "outputs": [],
   "source": []
  },
  {
   "cell_type": "code",
   "execution_count": null,
   "metadata": {},
   "outputs": [],
   "source": []
  },
  {
   "cell_type": "code",
   "execution_count": null,
   "metadata": {},
   "outputs": [],
   "source": []
  }
 ],
 "metadata": {
  "colab": {
   "authorship_tag": "ABX9TyPsiJ7NY7TpjrdF9y6YWDgV",
   "include_colab_link": true,
   "mount_file_id": "18SzaT0vOizXhjzJwc5jsiNAYFWN1UnNk",
   "name": "modelling_questions.ipynb",
   "provenance": []
  },
  "kernelspec": {
   "display_name": "Python 3",
   "language": "python",
   "name": "python3"
  },
  "language_info": {
   "codemirror_mode": {
    "name": "ipython",
    "version": 3
   },
   "file_extension": ".py",
   "mimetype": "text/x-python",
   "name": "python",
   "nbconvert_exporter": "python",
   "pygments_lexer": "ipython3",
   "version": "3.8.3"
  }
 },
 "nbformat": 4,
 "nbformat_minor": 1
}
