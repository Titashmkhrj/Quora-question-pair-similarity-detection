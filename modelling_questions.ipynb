{
  "nbformat": 4,
  "nbformat_minor": 0,
  "metadata": {
    "colab": {
      "name": "modelling_questions.ipynb",
      "provenance": [],
      "mount_file_id": "18SzaT0vOizXhjzJwc5jsiNAYFWN1UnNk",
      "authorship_tag": "ABX9TyPsiJ7NY7TpjrdF9y6YWDgV",
      "include_colab_link": true
    },
    "kernelspec": {
      "name": "python3",
      "display_name": "Python 3"
    }
  },
  "cells": [
    {
      "cell_type": "markdown",
      "metadata": {
        "id": "view-in-github",
        "colab_type": "text"
      },
      "source": [
        "<a href=\"https://colab.research.google.com/github/Titashmkhrj/Quora-question-pair-similarity-detection/blob/master/modelling_questions.ipynb\" target=\"_parent\"><img src=\"https://colab.research.google.com/assets/colab-badge.svg\" alt=\"Open In Colab\"/></a>"
      ]
    },
    {
      "cell_type": "markdown",
      "metadata": {
        "id": "odk7vCgyyU15",
        "colab_type": "text"
      },
      "source": [
        "# Project Description  \n",
        "This is a problem from one of the competitions held on Kaggle.  \n",
        "Competition name > <u>Quora Question Pairs</u>.  \n",
        "\n",
        "What is Quora?  \n",
        "Quora is a place to gain and share knowledge—about anything. It’s a platform to ask questions and connect with people who contribute unique insights and quality answers. This empowers people to learn from each other and to better understand the world.  \n",
        "\n",
        "# Problem Description  \n",
        "<i>(a/c the data source)</i>  \n",
        "Over 100 million people visit Quora every month, so it's no surprise that many people ask similarly worded questions. Multiple questions with the same intent can cause seekers to spend more time finding the best answer to their question, and make writers feel they need to answer multiple versions of the same question. Quora values canonical questions because they provide a better experience to active seekers and writers, and offer more value to both of these groups in the long term.  \n",
        "\n",
        "# Objective  \n",
        "<i>(a/c the data source)</i>   \n",
        "The goal of this competition is to predict which of the provided pairs of questions contain two questions with the same meaning.  \n",
        "\n",
        "# Data source  \n",
        "* From **KAGGLE** - https://www.kaggle.com/c/quora-question-pairs"
      ]
    },
    {
      "cell_type": "markdown",
      "metadata": {
        "id": "_1SiuTcGDCWC",
        "colab_type": "text"
      },
      "source": [
        "Okay so prime-facie let's import some of the libraries,  \n",
        "we will import other libraries as we go on a need basis."
      ]
    },
    {
      "cell_type": "code",
      "metadata": {
        "id": "BnIhyJaGHRuH",
        "colab_type": "code",
        "colab": {
          "base_uri": "https://localhost:8080/",
          "height": 71
        },
        "outputId": "e3897ee2-929c-422f-8650-92760360b81a"
      },
      "source": [
        "import sys\n",
        "\n",
        "# library to handle vectorized data \n",
        "import numpy as np \n",
        "# library for data analsysis and man\n",
        "import pandas as pd \n",
        "# so that the output is not trunacated by pandas when we actually want to see it \n",
        "pd.set_option('display.max_columns', 1000)\n",
        "pd.set_option('display.max_rows', 100000)\n",
        "\n",
        "# for visualisations\n",
        "import seaborn as sns\n",
        "%matplotlib inline \n",
        "import matplotlib.pyplot as plt"
      ],
      "execution_count": 1,
      "outputs": [
        {
          "output_type": "stream",
          "text": [
            "/usr/local/lib/python3.6/dist-packages/statsmodels/tools/_testing.py:19: FutureWarning: pandas.util.testing is deprecated. Use the functions in the public API at pandas.testing instead.\n",
            "  import pandas.util.testing as tm\n"
          ],
          "name": "stderr"
        }
      ]
    },
    {
      "cell_type": "markdown",
      "metadata": {
        "id": "MoTzJVLaI5fi",
        "colab_type": "text"
      },
      "source": [
        "Loading the data."
      ]
    },
    {
      "cell_type": "code",
      "metadata": {
        "id": "ENGDV_HTJmau",
        "colab_type": "code",
        "colab": {}
      },
      "source": [
        "train_data = pd.read_csv(r'/content/drive/My Drive/Projects/Quora_question_pair_similarity/train.csv')"
      ],
      "execution_count": 2,
      "outputs": []
    },
    {
      "cell_type": "code",
      "metadata": {
        "id": "_f_MS_n9Kka8",
        "colab_type": "code",
        "colab": {
          "base_uri": "https://localhost:8080/",
          "height": 34
        },
        "outputId": "68bdd1d9-0606-45de-b03e-b144f2aa0212"
      },
      "source": [
        "print('The dimensions of the training data are {} rows and {} columns'.format(train_data.shape[0], train_data.shape[1]))"
      ],
      "execution_count": 3,
      "outputs": [
        {
          "output_type": "stream",
          "text": [
            "The dimensions of the training data are 404290 rows and 6 columns\n"
          ],
          "name": "stdout"
        }
      ]
    },
    {
      "cell_type": "code",
      "metadata": {
        "id": "EfCBNUzBOEAd",
        "colab_type": "code",
        "colab": {
          "base_uri": "https://localhost:8080/",
          "height": 204
        },
        "outputId": "4437632c-f390-4305-bed7-191b19e2eb64"
      },
      "source": [
        "# let's take a look at the data\n",
        "train_data.head()"
      ],
      "execution_count": 4,
      "outputs": [
        {
          "output_type": "execute_result",
          "data": {
            "text/html": [
              "<div>\n",
              "<style scoped>\n",
              "    .dataframe tbody tr th:only-of-type {\n",
              "        vertical-align: middle;\n",
              "    }\n",
              "\n",
              "    .dataframe tbody tr th {\n",
              "        vertical-align: top;\n",
              "    }\n",
              "\n",
              "    .dataframe thead th {\n",
              "        text-align: right;\n",
              "    }\n",
              "</style>\n",
              "<table border=\"1\" class=\"dataframe\">\n",
              "  <thead>\n",
              "    <tr style=\"text-align: right;\">\n",
              "      <th></th>\n",
              "      <th>id</th>\n",
              "      <th>qid1</th>\n",
              "      <th>qid2</th>\n",
              "      <th>question1</th>\n",
              "      <th>question2</th>\n",
              "      <th>is_duplicate</th>\n",
              "    </tr>\n",
              "  </thead>\n",
              "  <tbody>\n",
              "    <tr>\n",
              "      <th>0</th>\n",
              "      <td>0</td>\n",
              "      <td>1</td>\n",
              "      <td>2</td>\n",
              "      <td>What is the step by step guide to invest in sh...</td>\n",
              "      <td>What is the step by step guide to invest in sh...</td>\n",
              "      <td>0</td>\n",
              "    </tr>\n",
              "    <tr>\n",
              "      <th>1</th>\n",
              "      <td>1</td>\n",
              "      <td>3</td>\n",
              "      <td>4</td>\n",
              "      <td>What is the story of Kohinoor (Koh-i-Noor) Dia...</td>\n",
              "      <td>What would happen if the Indian government sto...</td>\n",
              "      <td>0</td>\n",
              "    </tr>\n",
              "    <tr>\n",
              "      <th>2</th>\n",
              "      <td>2</td>\n",
              "      <td>5</td>\n",
              "      <td>6</td>\n",
              "      <td>How can I increase the speed of my internet co...</td>\n",
              "      <td>How can Internet speed be increased by hacking...</td>\n",
              "      <td>0</td>\n",
              "    </tr>\n",
              "    <tr>\n",
              "      <th>3</th>\n",
              "      <td>3</td>\n",
              "      <td>7</td>\n",
              "      <td>8</td>\n",
              "      <td>Why am I mentally very lonely? How can I solve...</td>\n",
              "      <td>Find the remainder when [math]23^{24}[/math] i...</td>\n",
              "      <td>0</td>\n",
              "    </tr>\n",
              "    <tr>\n",
              "      <th>4</th>\n",
              "      <td>4</td>\n",
              "      <td>9</td>\n",
              "      <td>10</td>\n",
              "      <td>Which one dissolve in water quikly sugar, salt...</td>\n",
              "      <td>Which fish would survive in salt water?</td>\n",
              "      <td>0</td>\n",
              "    </tr>\n",
              "  </tbody>\n",
              "</table>\n",
              "</div>"
            ],
            "text/plain": [
              "   id  qid1  qid2                                          question1  \\\n",
              "0   0     1     2  What is the step by step guide to invest in sh...   \n",
              "1   1     3     4  What is the story of Kohinoor (Koh-i-Noor) Dia...   \n",
              "2   2     5     6  How can I increase the speed of my internet co...   \n",
              "3   3     7     8  Why am I mentally very lonely? How can I solve...   \n",
              "4   4     9    10  Which one dissolve in water quikly sugar, salt...   \n",
              "\n",
              "                                           question2  is_duplicate  \n",
              "0  What is the step by step guide to invest in sh...             0  \n",
              "1  What would happen if the Indian government sto...             0  \n",
              "2  How can Internet speed be increased by hacking...             0  \n",
              "3  Find the remainder when [math]23^{24}[/math] i...             0  \n",
              "4            Which fish would survive in salt water?             0  "
            ]
          },
          "metadata": {
            "tags": []
          },
          "execution_count": 4
        }
      ]
    },
    {
      "cell_type": "code",
      "metadata": {
        "id": "ZrrTwfN9OHHn",
        "colab_type": "code",
        "colab": {
          "base_uri": "https://localhost:8080/",
          "height": 34
        },
        "outputId": "0159d459-411c-4929-90ee-1d8143e42a03"
      },
      "source": [
        "# let's check the features in our data\n",
        "train_data.columns"
      ],
      "execution_count": 5,
      "outputs": [
        {
          "output_type": "execute_result",
          "data": {
            "text/plain": [
              "Index(['id', 'qid1', 'qid2', 'question1', 'question2', 'is_duplicate'], dtype='object')"
            ]
          },
          "metadata": {
            "tags": []
          },
          "execution_count": 5
        }
      ]
    },
    {
      "cell_type": "markdown",
      "metadata": {
        "id": "0LpysGvmRBKl",
        "colab_type": "text"
      },
      "source": [
        "Feature explanation according to the data source :  \n",
        "* **id** - the id of a training set question pair\n",
        "* **qid1**, **qid2** - unique ids of each question (only available in train.csv)\n",
        "* **question1**, **question2** - the full text of each question\n",
        "* **is_duplicate** - the target variable, set to 1 if question1 and question2 have essentially the same meaning, and 0 otherwise."
      ]
    },
    {
      "cell_type": "code",
      "metadata": {
        "id": "j34_gwNTRc6G",
        "colab_type": "code",
        "colab": {
          "base_uri": "https://localhost:8080/",
          "height": 136
        },
        "outputId": "7df2436d-707e-4216-987a-c49d7b34b321"
      },
      "source": [
        "# let's also ckeck the data types of our features\n",
        "train_data.dtypes"
      ],
      "execution_count": 6,
      "outputs": [
        {
          "output_type": "execute_result",
          "data": {
            "text/plain": [
              "id               int64\n",
              "qid1             int64\n",
              "qid2             int64\n",
              "question1       object\n",
              "question2       object\n",
              "is_duplicate     int64\n",
              "dtype: object"
            ]
          },
          "metadata": {
            "tags": []
          },
          "execution_count": 6
        }
      ]
    },
    {
      "cell_type": "markdown",
      "metadata": {
        "id": "osp1hd1JRqPf",
        "colab_type": "text"
      },
      "source": [
        "# Exploratory data analysis and (if required) data cleaning."
      ]
    },
    {
      "cell_type": "markdown",
      "metadata": {
        "id": "YNN6HvmJSLYZ",
        "colab_type": "text"
      },
      "source": [
        "### Frequency distribution of the labels in the target feature :   \n",
        "**is_duplicate** is the target variable,  \n",
        "set to **1** if <i>question1</i> and <i>question2</i> have essentially the same meaning,  \n",
        "and set to **0** if <i>question1</i> and <i>question2</i> have otherwise different meaning.  \n",
        "\n",
        "Okay so we can understand that it is  binary target feature;  \n",
        "so let's check the frequency distribution of the labels."
      ]
    },
    {
      "cell_type": "code",
      "metadata": {
        "id": "3oe-US9AWDov",
        "colab_type": "code",
        "colab": {
          "base_uri": "https://localhost:8080/",
          "height": 299
        },
        "outputId": "b6a04509-8a3f-4db5-c2b9-8ce98f81d766"
      },
      "source": [
        "# plotting the frequency distribution\n",
        "target_freq_dist = train_data['is_duplicate'].value_counts() \n",
        "target_freq_dist.plot.pie()\n",
        "# printing the data related to it\n",
        "print('''>> Percentage of question pairs that are not similar = {} %\n",
        "\\n>> Percentage of question pairs that are similar = {} %'''.format(round((target_freq_dist[0]/len(train_data))*100,2),\n",
        "                                                               round((target_freq_dist[1]/len(train_data))*100, 2)))"
      ],
      "execution_count": 7,
      "outputs": [
        {
          "output_type": "stream",
          "text": [
            ">> Percentage of question pairs that are not similar = 63.08 %\n",
            "\n",
            ">> Percentage of question pairs that are similar = 36.92 %\n"
          ],
          "name": "stdout"
        },
        {
          "output_type": "display_data",
          "data": {
            "image/png": "[encoded data removed]",
            "text/plain": [
              "<Figure size 432x288 with 1 Axes>"
            ]
          },
          "metadata": {
            "tags": []
          }
        }
      ]
    },
    {
      "cell_type": "markdown",
      "metadata": {
        "id": "umPvRNL7Wzbv",
        "colab_type": "text"
      },
      "source": [
        "okay so as we can from above that the frequency distribution of the labels in our targe feature is imbalanced."
      ]
    },
    {
      "cell_type": "markdown",
      "metadata": {
        "id": "wX2XDXWvGjne",
        "colab_type": "text"
      },
      "source": [
        "### Unique questions :  \n",
        "okay so now let us check the number of unique questions in our data, and how they are distributed.  \n",
        "\n",
        "We have two features **qid1** and **qid2**, which contain the unique ids of the questons in our data. From observing the head of our dataset, prime - facie we can understand that the question pairs are made out of consecutive questions; i.e. questoin (1,2), (3,4), (5,6), and so on... From the above pattern we can infer that the pairs consist of consecutive odd and even numbered questions.  \n",
        "\n",
        "okay, so assuming that given a particular question id there is only one question, let us see how many unique questions we have in our dataset.  \n",
        "\n",
        "We will also be checking the frequency distribution of the unique questions in our dataset, i.e. assuming for a particular question id there is only one question, if that question is repeated in any other pair, and if so what is the frequency of such repetitions in our data."
      ]
    },
    {
      "cell_type": "code",
      "metadata": {
        "id": "L3E9qjitGj4W",
        "colab_type": "code",
        "colab": {
          "base_uri": "https://localhost:8080/",
          "height": 34
        },
        "outputId": "1bcf68e1-ca5f-4750-9aa6-e70622fb1f10"
      },
      "source": [
        "# checking the number of unique questions, assuing that gven a particular question id there is only one question\n",
        "question_ids = pd.Series(train_data['qid1'].tolist() + train_data['qid2'].tolist())\n",
        "print('The number of unique questions in our dataset are ', len(np.unique(question_ids)), ' questions.')"
      ],
      "execution_count": 69,
      "outputs": [
        {
          "output_type": "stream",
          "text": [
            "The number of unique questions in our dataset are  537933  questions.\n"
          ],
          "name": "stdout"
        }
      ]
    },
    {
      "cell_type": "code",
      "metadata": {
        "id": "HvpvMbN3GkCE",
        "colab_type": "code",
        "colab": {
          "base_uri": "https://localhost:8080/",
          "height": 1000
        },
        "outputId": "5ef20b0a-1581-4a70-dc8e-50c627dff8bd"
      },
      "source": [
        "# checking the frequency of repetition of each unique question\n",
        "freq_dict = {'no_of_questions' : ((question_ids.value_counts()).value_counts()).values,\n",
        "             'frequency_of_repitition' : ((question_ids.value_counts()).value_counts()).index\n",
        "}\n",
        "\n",
        "freq_of_questions = pd.DataFrame(freq_dict)\n",
        "freq_of_questions"
      ],
      "execution_count": 86,
      "outputs": [
        {
          "output_type": "execute_result",
          "data": {
            "text/html": [
              "<div>\n",
              "<style scoped>\n",
              "    .dataframe tbody tr th:only-of-type {\n",
              "        vertical-align: middle;\n",
              "    }\n",
              "\n",
              "    .dataframe tbody tr th {\n",
              "        vertical-align: top;\n",
              "    }\n",
              "\n",
              "    .dataframe thead th {\n",
              "        text-align: right;\n",
              "    }\n",
              "</style>\n",
              "<table border=\"1\" class=\"dataframe\">\n",
              "  <thead>\n",
              "    <tr style=\"text-align: right;\">\n",
              "      <th></th>\n",
              "      <th>no_of_questions</th>\n",
              "      <th>frequency_of_repitition</th>\n",
              "    </tr>\n",
              "  </thead>\n",
              "  <tbody>\n",
              "    <tr>\n",
              "      <th>0</th>\n",
              "      <td>426153</td>\n",
              "      <td>1</td>\n",
              "    </tr>\n",
              "    <tr>\n",
              "      <th>1</th>\n",
              "      <td>64767</td>\n",
              "      <td>2</td>\n",
              "    </tr>\n",
              "    <tr>\n",
              "      <th>2</th>\n",
              "      <td>21226</td>\n",
              "      <td>3</td>\n",
              "    </tr>\n",
              "    <tr>\n",
              "      <th>3</th>\n",
              "      <td>9345</td>\n",
              "      <td>4</td>\n",
              "    </tr>\n",
              "    <tr>\n",
              "      <th>4</th>\n",
              "      <td>4865</td>\n",
              "      <td>5</td>\n",
              "    </tr>\n",
              "    <tr>\n",
              "      <th>5</th>\n",
              "      <td>2846</td>\n",
              "      <td>6</td>\n",
              "    </tr>\n",
              "    <tr>\n",
              "      <th>6</th>\n",
              "      <td>1842</td>\n",
              "      <td>7</td>\n",
              "    </tr>\n",
              "    <tr>\n",
              "      <th>7</th>\n",
              "      <td>1308</td>\n",
              "      <td>8</td>\n",
              "    </tr>\n",
              "    <tr>\n",
              "      <th>8</th>\n",
              "      <td>929</td>\n",
              "      <td>9</td>\n",
              "    </tr>\n",
              "    <tr>\n",
              "      <th>9</th>\n",
              "      <td>693</td>\n",
              "      <td>10</td>\n",
              "    </tr>\n",
              "    <tr>\n",
              "      <th>10</th>\n",
              "      <td>578</td>\n",
              "      <td>11</td>\n",
              "    </tr>\n",
              "    <tr>\n",
              "      <th>11</th>\n",
              "      <td>480</td>\n",
              "      <td>12</td>\n",
              "    </tr>\n",
              "    <tr>\n",
              "      <th>12</th>\n",
              "      <td>387</td>\n",
              "      <td>13</td>\n",
              "    </tr>\n",
              "    <tr>\n",
              "      <th>13</th>\n",
              "      <td>321</td>\n",
              "      <td>14</td>\n",
              "    </tr>\n",
              "    <tr>\n",
              "      <th>14</th>\n",
              "      <td>270</td>\n",
              "      <td>15</td>\n",
              "    </tr>\n",
              "    <tr>\n",
              "      <th>15</th>\n",
              "      <td>199</td>\n",
              "      <td>16</td>\n",
              "    </tr>\n",
              "    <tr>\n",
              "      <th>16</th>\n",
              "      <td>192</td>\n",
              "      <td>17</td>\n",
              "    </tr>\n",
              "    <tr>\n",
              "      <th>17</th>\n",
              "      <td>187</td>\n",
              "      <td>18</td>\n",
              "    </tr>\n",
              "    <tr>\n",
              "      <th>18</th>\n",
              "      <td>154</td>\n",
              "      <td>20</td>\n",
              "    </tr>\n",
              "    <tr>\n",
              "      <th>19</th>\n",
              "      <td>153</td>\n",
              "      <td>19</td>\n",
              "    </tr>\n",
              "    <tr>\n",
              "      <th>20</th>\n",
              "      <td>113</td>\n",
              "      <td>21</td>\n",
              "    </tr>\n",
              "    <tr>\n",
              "      <th>21</th>\n",
              "      <td>105</td>\n",
              "      <td>23</td>\n",
              "    </tr>\n",
              "    <tr>\n",
              "      <th>22</th>\n",
              "      <td>103</td>\n",
              "      <td>22</td>\n",
              "    </tr>\n",
              "    <tr>\n",
              "      <th>23</th>\n",
              "      <td>88</td>\n",
              "      <td>24</td>\n",
              "    </tr>\n",
              "    <tr>\n",
              "      <th>24</th>\n",
              "      <td>75</td>\n",
              "      <td>25</td>\n",
              "    </tr>\n",
              "    <tr>\n",
              "      <th>25</th>\n",
              "      <td>66</td>\n",
              "      <td>27</td>\n",
              "    </tr>\n",
              "    <tr>\n",
              "      <th>26</th>\n",
              "      <td>58</td>\n",
              "      <td>26</td>\n",
              "    </tr>\n",
              "    <tr>\n",
              "      <th>27</th>\n",
              "      <td>47</td>\n",
              "      <td>28</td>\n",
              "    </tr>\n",
              "    <tr>\n",
              "      <th>28</th>\n",
              "      <td>39</td>\n",
              "      <td>33</td>\n",
              "    </tr>\n",
              "    <tr>\n",
              "      <th>29</th>\n",
              "      <td>36</td>\n",
              "      <td>32</td>\n",
              "    </tr>\n",
              "    <tr>\n",
              "      <th>30</th>\n",
              "      <td>35</td>\n",
              "      <td>31</td>\n",
              "    </tr>\n",
              "    <tr>\n",
              "      <th>31</th>\n",
              "      <td>32</td>\n",
              "      <td>29</td>\n",
              "    </tr>\n",
              "    <tr>\n",
              "      <th>32</th>\n",
              "      <td>30</td>\n",
              "      <td>30</td>\n",
              "    </tr>\n",
              "    <tr>\n",
              "      <th>33</th>\n",
              "      <td>20</td>\n",
              "      <td>34</td>\n",
              "    </tr>\n",
              "    <tr>\n",
              "      <th>34</th>\n",
              "      <td>20</td>\n",
              "      <td>41</td>\n",
              "    </tr>\n",
              "    <tr>\n",
              "      <th>35</th>\n",
              "      <td>18</td>\n",
              "      <td>35</td>\n",
              "    </tr>\n",
              "    <tr>\n",
              "      <th>36</th>\n",
              "      <td>15</td>\n",
              "      <td>42</td>\n",
              "    </tr>\n",
              "    <tr>\n",
              "      <th>37</th>\n",
              "      <td>12</td>\n",
              "      <td>37</td>\n",
              "    </tr>\n",
              "    <tr>\n",
              "      <th>38</th>\n",
              "      <td>12</td>\n",
              "      <td>38</td>\n",
              "    </tr>\n",
              "    <tr>\n",
              "      <th>39</th>\n",
              "      <td>11</td>\n",
              "      <td>36</td>\n",
              "    </tr>\n",
              "    <tr>\n",
              "      <th>40</th>\n",
              "      <td>10</td>\n",
              "      <td>43</td>\n",
              "    </tr>\n",
              "    <tr>\n",
              "      <th>41</th>\n",
              "      <td>9</td>\n",
              "      <td>49</td>\n",
              "    </tr>\n",
              "    <tr>\n",
              "      <th>42</th>\n",
              "      <td>8</td>\n",
              "      <td>40</td>\n",
              "    </tr>\n",
              "    <tr>\n",
              "      <th>43</th>\n",
              "      <td>8</td>\n",
              "      <td>44</td>\n",
              "    </tr>\n",
              "    <tr>\n",
              "      <th>44</th>\n",
              "      <td>8</td>\n",
              "      <td>45</td>\n",
              "    </tr>\n",
              "    <tr>\n",
              "      <th>45</th>\n",
              "      <td>8</td>\n",
              "      <td>46</td>\n",
              "    </tr>\n",
              "    <tr>\n",
              "      <th>46</th>\n",
              "      <td>7</td>\n",
              "      <td>51</td>\n",
              "    </tr>\n",
              "    <tr>\n",
              "      <th>47</th>\n",
              "      <td>7</td>\n",
              "      <td>39</td>\n",
              "    </tr>\n",
              "    <tr>\n",
              "      <th>48</th>\n",
              "      <td>5</td>\n",
              "      <td>50</td>\n",
              "    </tr>\n",
              "    <tr>\n",
              "      <th>49</th>\n",
              "      <td>5</td>\n",
              "      <td>47</td>\n",
              "    </tr>\n",
              "    <tr>\n",
              "      <th>50</th>\n",
              "      <td>4</td>\n",
              "      <td>54</td>\n",
              "    </tr>\n",
              "    <tr>\n",
              "      <th>51</th>\n",
              "      <td>4</td>\n",
              "      <td>55</td>\n",
              "    </tr>\n",
              "    <tr>\n",
              "      <th>52</th>\n",
              "      <td>3</td>\n",
              "      <td>48</td>\n",
              "    </tr>\n",
              "    <tr>\n",
              "      <th>53</th>\n",
              "      <td>3</td>\n",
              "      <td>52</td>\n",
              "    </tr>\n",
              "    <tr>\n",
              "      <th>54</th>\n",
              "      <td>1</td>\n",
              "      <td>66</td>\n",
              "    </tr>\n",
              "    <tr>\n",
              "      <th>55</th>\n",
              "      <td>1</td>\n",
              "      <td>111</td>\n",
              "    </tr>\n",
              "    <tr>\n",
              "      <th>56</th>\n",
              "      <td>1</td>\n",
              "      <td>88</td>\n",
              "    </tr>\n",
              "    <tr>\n",
              "      <th>57</th>\n",
              "      <td>1</td>\n",
              "      <td>79</td>\n",
              "    </tr>\n",
              "    <tr>\n",
              "      <th>58</th>\n",
              "      <td>1</td>\n",
              "      <td>77</td>\n",
              "    </tr>\n",
              "    <tr>\n",
              "      <th>59</th>\n",
              "      <td>1</td>\n",
              "      <td>68</td>\n",
              "    </tr>\n",
              "    <tr>\n",
              "      <th>60</th>\n",
              "      <td>1</td>\n",
              "      <td>120</td>\n",
              "    </tr>\n",
              "    <tr>\n",
              "      <th>61</th>\n",
              "      <td>1</td>\n",
              "      <td>63</td>\n",
              "    </tr>\n",
              "    <tr>\n",
              "      <th>62</th>\n",
              "      <td>1</td>\n",
              "      <td>61</td>\n",
              "    </tr>\n",
              "    <tr>\n",
              "      <th>63</th>\n",
              "      <td>1</td>\n",
              "      <td>58</td>\n",
              "    </tr>\n",
              "    <tr>\n",
              "      <th>64</th>\n",
              "      <td>1</td>\n",
              "      <td>57</td>\n",
              "    </tr>\n",
              "    <tr>\n",
              "      <th>65</th>\n",
              "      <td>1</td>\n",
              "      <td>56</td>\n",
              "    </tr>\n",
              "    <tr>\n",
              "      <th>66</th>\n",
              "      <td>1</td>\n",
              "      <td>53</td>\n",
              "    </tr>\n",
              "    <tr>\n",
              "      <th>67</th>\n",
              "      <td>1</td>\n",
              "      <td>157</td>\n",
              "    </tr>\n",
              "  </tbody>\n",
              "</table>\n",
              "</div>"
            ],
            "text/plain": [
              "    no_of_questions  frequency_of_repitition\n",
              "0            426153                        1\n",
              "1             64767                        2\n",
              "2             21226                        3\n",
              "3              9345                        4\n",
              "4              4865                        5\n",
              "5              2846                        6\n",
              "6              1842                        7\n",
              "7              1308                        8\n",
              "8               929                        9\n",
              "9               693                       10\n",
              "10              578                       11\n",
              "11              480                       12\n",
              "12              387                       13\n",
              "13              321                       14\n",
              "14              270                       15\n",
              "15              199                       16\n",
              "16              192                       17\n",
              "17              187                       18\n",
              "18              154                       20\n",
              "19              153                       19\n",
              "20              113                       21\n",
              "21              105                       23\n",
              "22              103                       22\n",
              "23               88                       24\n",
              "24               75                       25\n",
              "25               66                       27\n",
              "26               58                       26\n",
              "27               47                       28\n",
              "28               39                       33\n",
              "29               36                       32\n",
              "30               35                       31\n",
              "31               32                       29\n",
              "32               30                       30\n",
              "33               20                       34\n",
              "34               20                       41\n",
              "35               18                       35\n",
              "36               15                       42\n",
              "37               12                       37\n",
              "38               12                       38\n",
              "39               11                       36\n",
              "40               10                       43\n",
              "41                9                       49\n",
              "42                8                       40\n",
              "43                8                       44\n",
              "44                8                       45\n",
              "45                8                       46\n",
              "46                7                       51\n",
              "47                7                       39\n",
              "48                5                       50\n",
              "49                5                       47\n",
              "50                4                       54\n",
              "51                4                       55\n",
              "52                3                       48\n",
              "53                3                       52\n",
              "54                1                       66\n",
              "55                1                      111\n",
              "56                1                       88\n",
              "57                1                       79\n",
              "58                1                       77\n",
              "59                1                       68\n",
              "60                1                      120\n",
              "61                1                       63\n",
              "62                1                       61\n",
              "63                1                       58\n",
              "64                1                       57\n",
              "65                1                       56\n",
              "66                1                       53\n",
              "67                1                      157"
            ]
          },
          "metadata": {
            "tags": []
          },
          "execution_count": 86
        }
      ]
    },
    {
      "cell_type": "markdown",
      "metadata": {
        "id": "UMyMZNiBHFu9",
        "colab_type": "text"
      },
      "source": [
        "Observations : \n",
        "* 426153 number of questions have no repetitions in our dataset, which means 111780 questions have repetitions in our dataset.\n",
        "* The frequncy distribution of repetitions of questions range from 1 to 157.\n",
        "* The frequency of repetition of questions is inversly proportionate to the number od questions repeated for that particular frequency.\n"
      ]
    },
    {
      "cell_type": "code",
      "metadata": {
        "id": "ig-gUWrf2-dN",
        "colab_type": "code",
        "colab": {}
      },
      "source": [
        ""
      ],
      "execution_count": null,
      "outputs": []
    }
  ]
}